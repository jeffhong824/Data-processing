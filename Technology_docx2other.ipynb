{
 "cells": [
  {
   "cell_type": "markdown",
   "metadata": {},
   "source": [
    "## Window Method"
   ]
  },
  {
   "cell_type": "raw",
   "metadata": {},
   "source": [
    "docx to pdf\n",
    "docx to pdf to jpg"
   ]
  },
  {
   "cell_type": "raw",
   "metadata": {},
   "source": [
    "pip install pdf2image"
   ]
  },
  {
   "cell_type": "markdown",
   "metadata": {},
   "source": [
    "https://www.geeksforgeeks.org/convert-pdf-to-image-using-python/"
   ]
  },
  {
   "cell_type": "markdown",
   "metadata": {},
   "source": [
    "https://github.com/oschwartz10612/poppler-windows/releases/"
   ]
  },
  {
   "cell_type": "code",
   "execution_count": 1,
   "metadata": {},
   "outputs": [],
   "source": [
    "from docx import Document\n",
    "import os\n",
    "from win32com import client as wc\n",
    "from win32com.client import Dispatch, constants\n",
    "import win32com\n",
    "from docx.shared import Inches\n",
    "from docx.shared import RGBColor\n",
    "from docx.enum.text import WD_COLOR_INDEX"
   ]
  },
  {
   "cell_type": "code",
   "execution_count": null,
   "metadata": {},
   "outputs": [],
   "source": [
    "Path1 = 'D:/Record/meeting/2022_01_24_SPB/docx/path1.docx'\n",
    "Path2 = 'D:/Record/meeting/2022_01_24_SPB/docx/path2.docx'\n",
    "pic = 'D:/Record/meeting/2022_01_24_SPB/docx/pic.png'"
   ]
  },
  {
   "cell_type": "code",
   "execution_count": null,
   "metadata": {},
   "outputs": [],
   "source": [
    "def funGeneratePDF(oldDocName,docx2type): # 轉換word為pdf\n",
    "    \n",
    "    # 打開word應用程式\n",
    "    word = wc.Dispatch('Word.Application') # # word = DispatchEx('Word.Application')\n",
    "    \n",
    "    # 如果不聲明以下屬性，運行的時候會顯示的打開word\n",
    "    word.Visible = 1 # 0:後台運行 1:前台運行(可見)\n",
    "    word.DisplayAlerts = 0 # 不顯示，不警告\n",
    "      \n",
    "    # 創建新的word文檔\n",
    "    doc = word.Documents.Add()\n",
    "\n",
    "    # 在文檔開頭添加內容\n",
    "    #myRange1 = doc.Range(0, 0)\n",
    "    #myRange1.InsertBefore('Hello word\\n')\n",
    "\n",
    "    # 在文檔末尾添加內容\n",
    "    #myRange2 = doc.Range()\n",
    "    #myRange2.InsertAfter('Bye word\\n')\n",
    "        \n",
    "    #打開舊word 文件\n",
    "    doc = word.Documents.Open(oldDocName)\n",
    "    \n",
    "    # 存擋類型 # txt=4, html=10, docx=16， pdf=17 # https://blog.csdn.net/ynyn2013/article/details/49120731\n",
    "    if int(docx2type) == 4 :\n",
    "        newDocName = oldDocName.replace('.docx','.txt')\n",
    "    elif int(docx2type) == 10 :\n",
    "        newDocName = oldDocName.replace('.docx','.html')\n",
    "    elif int(docx2type) == 17 :\n",
    "        newDocName = oldDocName.replace('.docx','.pdf')\n",
    "    else:\n",
    "        newDocName = oldDocName\n",
    "    doc.SaveAs(newDocName, docx2type,Encoding='utf-8')"
   ]
  },
  {
   "cell_type": "code",
   "execution_count": 113,
   "metadata": {},
   "outputs": [],
   "source": [
    "funGeneratePDF(Path2,17)"
   ]
  },
  {
   "cell_type": "code",
   "execution_count": 116,
   "metadata": {},
   "outputs": [],
   "source": [
    "new_path = Path2.replace('.docx','.pdf')"
   ]
  },
  {
   "cell_type": "code",
   "execution_count": 119,
   "metadata": {},
   "outputs": [],
   "source": [
    "from pdf2image import convert_from_path\n",
    " \n",
    " \n",
    "# Store Pdf with convert_from_path function\n",
    "images = convert_from_path(new_path,poppler_path = r'C:/Users/Tingchun.TC.Hung/Downloads/poppler-22.01.0/Library/bin')\n",
    " \n",
    "for i in range(len(images)):\n",
    "   \n",
    "      # Save pages as images in the pdf\n",
    "    images[i].save(Path2.replace('.docx','.jpg'), 'JPEG')"
   ]
  },
  {
   "cell_type": "markdown",
   "metadata": {},
   "source": [
    "## Linux Method"
   ]
  },
  {
   "cell_type": "raw",
   "metadata": {},
   "source": [
    "docx to pdf\n",
    "docx to jpg"
   ]
  },
  {
   "cell_type": "code",
   "execution_count": 2,
   "metadata": {},
   "outputs": [],
   "source": [
    "import subprocess"
   ]
  },
  {
   "cell_type": "code",
   "execution_count": 3,
   "metadata": {},
   "outputs": [
    {
     "ename": "SyntaxError",
     "evalue": "invalid syntax (<ipython-input-3-af126e0f7759>, line 8)",
     "output_type": "error",
     "traceback": [
      "\u001b[1;36m  File \u001b[1;32m\"<ipython-input-3-af126e0f7759>\"\u001b[1;36m, line \u001b[1;32m8\u001b[0m\n\u001b[1;33m    cmd = .split() + [doc]\u001b[0m\n\u001b[1;37m          ^\u001b[0m\n\u001b[1;31mSyntaxError\u001b[0m\u001b[1;31m:\u001b[0m invalid syntax\n"
     ]
    }
   ],
   "source": [
    "# doc2pdf_linux\n",
    "def doc2_linux(doc,to_type):\n",
    "    \"\"\"\n",
    "    convert a doc/docx document to pdf format (linux only, requires libreoffice)\n",
    "    :param doc: path to document\n",
    "    \"\"\"\n",
    "    cmd_part = 'libreoffice --convert-to '+to_type\n",
    "    cmd = cmd_part.split() + [doc]\n",
    "    p = subprocess.Popen(cmd, stderr=subprocess.PIPE, stdout=subprocess.PIPE)\n",
    "    p.wait(timeout=10)\n",
    "    stdout, stderr = p.communicate()\n",
    "    if stderr:\n",
    "        raise subprocess.SubprocessError(stderr)"
   ]
  },
  {
   "cell_type": "code",
   "execution_count": null,
   "metadata": {},
   "outputs": [],
   "source": [
    "    doc2_linux(output_data_path+'.docx','pdf')\n",
    "    doc2_linux(output_data_path+'.docx','jpg')"
   ]
  }
 ],
 "metadata": {
  "kernelspec": {
   "display_name": "NLP",
   "language": "python",
   "name": "nlp"
  },
  "language_info": {
   "codemirror_mode": {
    "name": "ipython",
    "version": 3
   },
   "file_extension": ".py",
   "mimetype": "text/x-python",
   "name": "python",
   "nbconvert_exporter": "python",
   "pygments_lexer": "ipython3",
   "version": "3.6.12"
  }
 },
 "nbformat": 4,
 "nbformat_minor": 4
}
