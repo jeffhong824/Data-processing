{
 "cells": [
  {
   "cell_type": "code",
   "execution_count": 1,
   "metadata": {},
   "outputs": [],
   "source": [
    "import cv2"
   ]
  },
  {
   "cell_type": "code",
   "execution_count": 11,
   "metadata": {},
   "outputs": [],
   "source": [
    "running = 365"
   ]
  },
  {
   "cell_type": "code",
   "execution_count": 12,
   "metadata": {},
   "outputs": [],
   "source": [
    "img = cv2.imread(\"C:/Users/Tingchun.TC.Hung/Downloads/A2-1_2021-01-25-07_00_2021-01-25-08_00-20210603T052914Z-001/A2-1_2021-01-25-07_00_2021-01-25-08_00/A2-1_2021-01-25-07_00_2021-01-25-08_00\"+str(running)+\".jpg\")  "
   ]
  },
  {
   "cell_type": "code",
   "execution_count": 13,
   "metadata": {},
   "outputs": [
    {
     "name": "stdout",
     "output_type": "stream",
     "text": [
      "1108\n",
      "1477\n"
     ]
    }
   ],
   "source": [
    "w = len(img)\n",
    "h = len(img[0])\n",
    "print(w)\n",
    "print(h)"
   ]
  },
  {
   "cell_type": "code",
   "execution_count": 10,
   "metadata": {},
   "outputs": [],
   "source": [
    "down = 1000\n",
    "img = cv2.resize(img, (int(h/down), int(w/down))) "
   ]
  },
  {
   "cell_type": "code",
   "execution_count": 14,
   "metadata": {},
   "outputs": [],
   "source": [
    "down = 100\n",
    "img = cv2.resize(img, (int(270), int(480))) "
   ]
  },
  {
   "cell_type": "code",
   "execution_count": 15,
   "metadata": {},
   "outputs": [
    {
     "data": {
      "text/plain": [
       "True"
      ]
     },
     "execution_count": 15,
     "metadata": {},
     "output_type": "execute_result"
    }
   ],
   "source": [
    "cv2.imwrite(\"C:/Users/Tingchun.TC.Hung/Downloads/A2_raw/Raw\"+str(running)+\".jpg\", img)"
   ]
  },
  {
   "cell_type": "code",
   "execution_count": 30,
   "metadata": {},
   "outputs": [
    {
     "data": {
      "text/plain": [
       "-1"
      ]
     },
     "execution_count": 30,
     "metadata": {},
     "output_type": "execute_result"
    }
   ],
   "source": [
    "cv2.imshow(\"OpenPose 1.7.0 - Tutorial Python API\", img)  \n",
    "cv2.waitKey(1)"
   ]
  },
  {
   "cell_type": "code",
   "execution_count": null,
   "metadata": {},
   "outputs": [],
   "source": [
    "print('1')"
   ]
  },
  {
   "cell_type": "code",
   "execution_count": 1,
   "metadata": {},
   "outputs": [],
   "source": [
    "import cv2\n",
    "from os import listdir,path,rename,walk,makedirs\n",
    "import os"
   ]
  },
  {
   "cell_type": "code",
   "execution_count": 19,
   "metadata": {},
   "outputs": [
    {
     "data": {
      "text/plain": [
       "['20210125',\n",
       " '20210126',\n",
       " '20210127',\n",
       " '20210128',\n",
       " '20210129',\n",
       " '20210222',\n",
       " '20210223',\n",
       " '20210224',\n",
       " '20210225']"
      ]
     },
     "execution_count": 19,
     "metadata": {},
     "output_type": "execute_result"
    }
   ],
   "source": [
    "dirs"
   ]
  },
  {
   "cell_type": "code",
   "execution_count": 33,
   "metadata": {},
   "outputs": [],
   "source": [
    "TOP_path = 'C:/Users/Tingchun.TC.Hung/Downloads/A3路口/'\n",
    "\n",
    "Path = []\n",
    "for root, dirs, files in walk(TOP_path):\n",
    "    for dir_ in dirs:\n",
    "        Path.append(dir_)\n",
    "        for root, dirs, files in walk(TOP_path+dir_+'/'):\n",
    "            for each_paper in files :\n",
    "                Target = TOP_path+dir_+'/'+each_paper\n",
    "\n",
    "                start_position = Target.rfind('/')+1\n",
    "                end_position = Target.rfind('.')\n",
    "                name = Target[start_position:end_position]\n",
    "\n",
    "                os.rename(Target, TOP_path+name.replace('-','__')+'.mp4')\n",
    "\n",
    "                os.mkdir('D:/Compete_Data/A3/'+name.replace('-','__'))"
   ]
  },
  {
   "cell_type": "code",
   "execution_count": 34,
   "metadata": {},
   "outputs": [],
   "source": [
    "TOP_path = 'D:/Compete/A3/'\n",
    "\n",
    "Path = []\n",
    "for root, dirs, files in walk(TOP_path):    \n",
    "    for each_paper in files :\n",
    "        Target = TOP_path+dir_+'/'+each_paper\n",
    "\n",
    "        start_position = Target.rfind('/')+1\n",
    "        end_position = Target.rfind('.')\n",
    "        name = Target[start_position:end_position]\n",
    "\n",
    "        os.mkdir('D:/Compete_Data/A3/'+name.replace('-','__'))"
   ]
  },
  {
   "cell_type": "code",
   "execution_count": 30,
   "metadata": {},
   "outputs": [
    {
     "data": {
      "text/plain": [
       "'A3-1_2021-01-25-07_00_2021-01-25-08_00.mp4'"
      ]
     },
     "execution_count": 30,
     "metadata": {},
     "output_type": "execute_result"
    }
   ],
   "source": [
    "each_paper"
   ]
  },
  {
   "cell_type": "code",
   "execution_count": 29,
   "metadata": {},
   "outputs": [
    {
     "data": {
      "text/plain": [
       "'C:/Users/Tingchun.TC.Hung/Downloads/A3路口/20210125/A3-1_2021-01-25-07_00_2021-01-25-08_00.mp4'"
      ]
     },
     "execution_count": 29,
     "metadata": {},
     "output_type": "execute_result"
    }
   ],
   "source": [
    "Target"
   ]
  },
  {
   "cell_type": "code",
   "execution_count": 26,
   "metadata": {},
   "outputs": [
    {
     "data": {
      "text/plain": [
       "'A3-1_2021-01-25-07_00_2021-01-25-08_00'"
      ]
     },
     "execution_count": 26,
     "metadata": {},
     "output_type": "execute_result"
    }
   ],
   "source": [
    "name"
   ]
  },
  {
   "cell_type": "code",
   "execution_count": 25,
   "metadata": {},
   "outputs": [
    {
     "data": {
      "text/plain": [
       "'C:/Users/Tingchun.TC.Hung/Downloads/A3路口/A3__1_2021__01__25__07_00_2021__01__25__08_00.mp4'"
      ]
     },
     "execution_count": 25,
     "metadata": {},
     "output_type": "execute_result"
    }
   ],
   "source": [
    "\n",
    "    \n",
    "TOP_path+name.replace('-','__')+'.mp4'\n"
   ]
  },
  {
   "cell_type": "code",
   "execution_count": 11,
   "metadata": {},
   "outputs": [
    {
     "data": {
      "text/plain": [
       "['A2-1_2021-01-28-08_00_2021-01-28-09_00',\n",
       " 'A2-1_2021-01-26-08_00_2021-01-26-09_00',\n",
       " 'A2-1_2021-01-29-17_00_2021-01-29-18_00',\n",
       " 'A2-1_2021-01-26-18_00_2021-01-26-19_00',\n",
       " 'A2-1_2021-01-28-07_00_2021-01-28-08_00',\n",
       " 'A2-1_2021-02-22-17_00_2021-02-22-18_00',\n",
       " 'A2-1_2021-02-25-17_00_2021-02-25-18_00',\n",
       " 'A2-1_2021-01-25-17_00_2021-01-25-18_00',\n",
       " 'A2-1_2021-01-25-08_00_2021-01-25-09_00',\n",
       " 'A2-1_2021-01-26-07_00_2021-01-26-08_00',\n",
       " 'A2-1_2021-02-22-07_00_2021-02-22-08_00',\n",
       " 'A2-1_2021-02-25-18_00_2021-02-25-19_00',\n",
       " 'A2-1_2021-01-26-17_00_2021-01-26-18_00',\n",
       " 'A2-1_2021-02-23-07_00_2021-02-23-08_00',\n",
       " 'A2-1_2021-02-22-18_00_2021-02-22-19_00',\n",
       " 'A2-1_2021-02-24-17_00_2021-02-24-18_00',\n",
       " 'A2-1_2021-02-25-07_00_2021-02-25-08_00',\n",
       " 'A2-1_2021-01-29-18_00_2021-01-29-19_00',\n",
       " 'A2-1_2021-02-22-08_00_2021-02-22-09_00',\n",
       " 'A2-1_2021-01-29-08_00_2021-01-29-09_00',\n",
       " 'A2-1_2021-02-24-18_00_2021-02-24-19_00',\n",
       " 'A2-1_2021-02-24-07_00_2021-02-24-08_00',\n",
       " 'A2-1_2021-01-27-18_00_2021-01-27-19_00',\n",
       " 'A2-1_2021-02-23-17_00_2021-02-23-18_00',\n",
       " 'A2-1_2021-02-01-08_00_2021-02-01-09_00',\n",
       " 'A2-1_2021-02-01-07_00_2021-02-01-08_00',\n",
       " 'A2-1_2021-01-27-08_00_2021-01-27-09_00',\n",
       " 'A2-1_2021-02-01-18_00_2021-02-01-19_00',\n",
       " 'A2-1_2021-02-23-18_00_2021-02-23-19_00',\n",
       " 'A2-1_2021-02-24-08_00_2021-02-24-09_00',\n",
       " 'A2-1_2021-01-27-17_00_2021-01-27-18_00',\n",
       " 'A2-1_2021-02-25-08_00_2021-02-25-09_00',\n",
       " 'A2-1_2021-01-27-07_00_2021-01-27-08_00']"
      ]
     },
     "execution_count": 11,
     "metadata": {},
     "output_type": "execute_result"
    }
   ],
   "source": [
    "Path[21:]"
   ]
  },
  {
   "cell_type": "code",
   "execution_count": 13,
   "metadata": {},
   "outputs": [
    {
     "ename": "FileNotFoundError",
     "evalue": "[WinError 2] 系統找不到指定的檔案。: 'C:/Users/Tingchun.TC.Hung/Downloads/A2-1_2021-01-28-08_00_2021-01-28-09_00.mp4' -> 'C:/Users/Tingchun.TC.Hung/openpose-master/examples/media/vedio/Data/A2__1_2021__01__28__08_00_2021__01__28__09_00.mp4'",
     "output_type": "error",
     "traceback": [
      "\u001b[1;31m---------------------------------------------------------------------------\u001b[0m",
      "\u001b[1;31mFileNotFoundError\u001b[0m                         Traceback (most recent call last)",
      "\u001b[1;32m<ipython-input-13-0ee2f6d9db1f>\u001b[0m in \u001b[0;36m<module>\u001b[1;34m\u001b[0m\n\u001b[0;32m      1\u001b[0m \u001b[1;32mfor\u001b[0m \u001b[0mi\u001b[0m \u001b[1;32min\u001b[0m \u001b[0mPath\u001b[0m\u001b[1;33m[\u001b[0m\u001b[1;36m21\u001b[0m\u001b[1;33m:\u001b[0m\u001b[1;33m]\u001b[0m\u001b[1;33m:\u001b[0m\u001b[1;33m\u001b[0m\u001b[1;33m\u001b[0m\u001b[0m\n\u001b[1;32m----> 2\u001b[1;33m     \u001b[0mos\u001b[0m\u001b[1;33m.\u001b[0m\u001b[0mrename\u001b[0m\u001b[1;33m(\u001b[0m\u001b[0mTOP_path\u001b[0m\u001b[1;33m+\u001b[0m\u001b[0mi\u001b[0m\u001b[1;33m+\u001b[0m\u001b[1;34m'.mp4'\u001b[0m\u001b[1;33m,\u001b[0m \u001b[1;34m'C:/Users/Tingchun.TC.Hung/openpose-master/examples/media/vedio/Data/'\u001b[0m\u001b[1;33m+\u001b[0m\u001b[0mi\u001b[0m\u001b[1;33m.\u001b[0m\u001b[0mreplace\u001b[0m\u001b[1;33m(\u001b[0m\u001b[1;34m'-'\u001b[0m\u001b[1;33m,\u001b[0m\u001b[1;34m'__'\u001b[0m\u001b[1;33m)\u001b[0m\u001b[1;33m+\u001b[0m\u001b[1;34m'.mp4'\u001b[0m\u001b[1;33m)\u001b[0m\u001b[1;33m\u001b[0m\u001b[1;33m\u001b[0m\u001b[0m\n\u001b[0m\u001b[0;32m      3\u001b[0m     \u001b[0mos\u001b[0m\u001b[1;33m.\u001b[0m\u001b[0mmkdir\u001b[0m\u001b[1;33m(\u001b[0m\u001b[1;34m'D:/Compete_Data/A2/'\u001b[0m\u001b[1;33m+\u001b[0m\u001b[0mi\u001b[0m\u001b[1;33m.\u001b[0m\u001b[0mreplace\u001b[0m\u001b[1;33m(\u001b[0m\u001b[1;34m'-'\u001b[0m\u001b[1;33m,\u001b[0m\u001b[1;34m'__'\u001b[0m\u001b[1;33m)\u001b[0m\u001b[1;33m)\u001b[0m\u001b[1;33m\u001b[0m\u001b[1;33m\u001b[0m\u001b[0m\n",
      "\u001b[1;31mFileNotFoundError\u001b[0m: [WinError 2] 系統找不到指定的檔案。: 'C:/Users/Tingchun.TC.Hung/Downloads/A2-1_2021-01-28-08_00_2021-01-28-09_00.mp4' -> 'C:/Users/Tingchun.TC.Hung/openpose-master/examples/media/vedio/Data/A2__1_2021__01__28__08_00_2021__01__28__09_00.mp4'"
     ]
    }
   ],
   "source": [
    "for i in Path[21:]:\n",
    "    os.rename(TOP_path+i+'.mp4', 'C:/Users/Tingchun.TC.Hung/openpose-master/examples/media/vedio/Data/'+i.replace('-','__')+'.mp4')\n",
    "    os.mkdir('D:/Compete_Data/A2/'+i.replace('-','__'))"
   ]
  },
  {
   "cell_type": "code",
   "execution_count": null,
   "metadata": {},
   "outputs": [],
   "source": [
    "os.rename(Target, TOP_path+name.replace('-','__')+'.mp4')\n",
    "        \n",
    "        "
   ]
  },
  {
   "cell_type": "code",
   "execution_count": null,
   "metadata": {},
   "outputs": [],
   "source": [
    "def get_images_from_video(video_name, time_F):\n",
    "    video_images = []\n",
    "    vc = cv2.VideoCapture(video_name)\n",
    "    c = 1\n",
    "    \n",
    "    if vc.isOpened(): #判斷是否開啟影片\n",
    "        rval, video_frame = vc.read()\n",
    "    else:\n",
    "        rval = False\n",
    "\n",
    "    while rval:   #擷取視頻至結束\n",
    "        rval, video_frame = vc.read()\n",
    "        \n",
    "        if(c % time_F == 0): #每隔幾幀進行擷取\n",
    "            video_images.append(video_frame)     \n",
    "        c = c + 1\n",
    "    vc.release()\n",
    "    \n",
    "    return video_images"
   ]
  },
  {
   "cell_type": "code",
   "execution_count": 7,
   "metadata": {},
   "outputs": [],
   "source": [
    "target = 0\n",
    "start_position = Path[target].rfind('/')+1\n",
    "end_position = Path[target].rfind('.')\n",
    "name = Path[target][start_position:end_position]"
   ]
  },
  {
   "cell_type": "code",
   "execution_count": 8,
   "metadata": {},
   "outputs": [
    {
     "name": "stderr",
     "output_type": "stream",
     "text": [
      "ERROR:root:Internal Python error in the inspect module.\n",
      "Below is the traceback from this internal error.\n",
      "\n",
      "\n",
      "KeyboardInterrupt\n",
      "\n"
     ]
    }
   ],
   "source": [
    "time_F = 5 #time_F越小，取樣張數越多\n",
    "video_name = Path[target] #影片名稱\n",
    "video_images = get_images_from_video(video_name, time_F) #讀取影片並轉成圖片\n",
    "\n",
    "for i in range(0, len(video_images)): #顯示出所有擷取之圖片\n",
    "#     cv2.imshow('windows', video_images[i])\n",
    "    cv2.imwrite(\"D:/競賽/\"+name+str(i+1)+\".jpg\", video_images[i])\n",
    "#     cv2.waitKey(100)\n"
   ]
  },
  {
   "cell_type": "code",
   "execution_count": 9,
   "metadata": {},
   "outputs": [
    {
     "data": {
      "text/plain": [
       "'C:/Users/Tingchun.TC.Hung/openpose-master/examples/media/vedio/Data/A1-1_2021-01-25-07_00_2021-01-25-08_00.mp4'"
      ]
     },
     "execution_count": 9,
     "metadata": {},
     "output_type": "execute_result"
    }
   ],
   "source": [
    "Path[0]"
   ]
  },
  {
   "cell_type": "code",
   "execution_count": 12,
   "metadata": {},
   "outputs": [],
   "source": [
    "newname = 'A'"
   ]
  },
  {
   "cell_type": "code",
   "execution_count": 13,
   "metadata": {},
   "outputs": [],
   "source": []
  },
  {
   "cell_type": "code",
   "execution_count": 14,
   "metadata": {},
   "outputs": [],
   "source": []
  },
  {
   "cell_type": "code",
   "execution_count": null,
   "metadata": {},
   "outputs": [],
   "source": []
  }
 ],
 "metadata": {
  "kernelspec": {
   "display_name": "NLP",
   "language": "python",
   "name": "nlp"
  },
  "language_info": {
   "codemirror_mode": {
    "name": "ipython",
    "version": 3
   },
   "file_extension": ".py",
   "mimetype": "text/x-python",
   "name": "python",
   "nbconvert_exporter": "python",
   "pygments_lexer": "ipython3",
   "version": "3.6.12"
  }
 },
 "nbformat": 4,
 "nbformat_minor": 4
}
